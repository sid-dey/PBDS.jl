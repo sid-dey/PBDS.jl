{
 "cells": [
  {
   "cell_type": "markdown",
   "metadata": {},
   "source": [
    "## R3 To R1 Point Attractor, S2 Damping, R1 Box Avoidance"
   ]
  },
  {
   "cell_type": "code",
   "execution_count": 1,
   "metadata": {},
   "outputs": [
    {
     "data": {
      "text/html": [
       "<script>\n",
       "// Immediately-invoked-function-expression to avoid global variables.\n",
       "(function() {\n",
       "    var warning_div = document.getElementById(\"webio-warning-12538585212149344916\");\n",
       "    var hide = function () {\n",
       "        var script = document.getElementById(\"webio-setup-4368257654915171814\");\n",
       "        var parent = script && script.parentElement;\n",
       "        var grandparent = parent && parent.parentElement;\n",
       "        if (grandparent) {\n",
       "            grandparent.style.display = \"none\";\n",
       "        }\n",
       "        warning_div.style.display = \"none\";\n",
       "    };\n",
       "    if (typeof Jupyter !== \"undefined\") {\n",
       "        console.log(\"WebIO detected Jupyter notebook environment.\");\n",
       "        // Jupyter notebook.\n",
       "        var extensions = (\n",
       "            Jupyter\n",
       "            && Jupyter.notebook.config.data\n",
       "            && Jupyter.notebook.config.data.load_extensions\n",
       "        );\n",
       "        if (extensions && extensions[\"webio-jupyter-notebook\"]) {\n",
       "            // Extension already loaded.\n",
       "            console.log(\"Jupyter WebIO nbextension detected; not loading ad-hoc.\");\n",
       "            hide();\n",
       "            return;\n",
       "        }\n",
       "    } else if (window.location.pathname.includes(\"/lab\")) {\n",
       "        // Guessing JupyterLa\n",
       "        console.log(\"Jupyter Lab detected; make sure the @webio/jupyter-lab-provider labextension is installed.\");\n",
       "        hide();\n",
       "        return;\n",
       "    }\n",
       "})();\n",
       "\n",
       "</script>\n",
       "<p\n",
       "    id=\"webio-warning-12538585212149344916\"\n",
       "    class=\"output_text output_stderr\"\n",
       "    style=\"padding: 1em; font-weight: bold;\"\n",
       ">\n",
       "    Unable to load WebIO. Please make sure WebIO works for your Jupyter client.\n",
       "    For troubleshooting, please see <a href=\"https://juliagizmos.github.io/WebIO.jl/latest/providers/ijulia/\">\n",
       "    the WebIO/IJulia documentation</a>.\n",
       "    <!-- TODO: link to installation docs. -->\n",
       "</p>\n"
      ],
      "text/plain": [
       "HTML{String}(\"<script>\\n// Immediately-invoked-function-expression to avoid global variables.\\n(function() {\\n    var warning_div = document.getElementById(\\\"webio-warning-12538585212149344916\\\");\\n    var hide = function () {\\n        var script = document.getElementById(\\\"webio-setup-4368257654915171814\\\");\\n        var parent = script && script.parentElement;\\n        var grandparent = parent && parent.parentElement;\\n        if (grandparent) {\\n            grandparent.style.display = \\\"none\\\";\\n        }\\n        warning_div.style.display = \\\"none\\\";\\n    };\\n    if (typeof Jupyter !== \\\"undefined\\\") {\\n        console.log(\\\"WebIO detected Jupyter notebook environment.\\\");\\n        // Jupyter notebook.\\n        var extensions = (\\n            Jupyter\\n            && Jupyter.notebook.config.data\\n            && Jupyter.notebook.config.data.load_extensions\\n        );\\n        if (extensions && extensions[\\\"webio-jupyter-notebook\\\"]) {\\n            // Extension already loaded.\\n            console.log(\\\"Jupyter WebIO nbextension detected; not loading ad-hoc.\\\");\\n            hide();\\n            return;\\n        }\\n    } else if (window.location.pathname.includes(\\\"/lab\\\")) {\\n        // Guessing JupyterLa\\n        console.log(\\\"Jupyter Lab detected; make sure the @webio/jupyter-lab-provider labextension is installed.\\\");\\n        hide();\\n        return;\\n    }\\n})();\\n\\n</script>\\n<p\\n    id=\\\"webio-warning-12538585212149344916\\\"\\n    class=\\\"output_text output_stderr\\\"\\n    style=\\\"padding: 1em; font-weight: bold;\\\"\\n>\\n    Unable to load WebIO. Please make sure WebIO works for your Jupyter client.\\n    For troubleshooting, please see <a href=\\\"https://juliagizmos.github.io/WebIO.jl/latest/providers/ijulia/\\\">\\n    the WebIO/IJulia documentation</a>.\\n    <!-- TODO: link to installation docs. -->\\n</p>\\n\")"
      ]
     },
     "metadata": {},
     "output_type": "display_data"
    }
   ],
   "source": [
    "using PBDS, StaticArrays, LinearAlgebra, GeometryBasics, Rotations, BenchmarkTools"
   ]
  },
  {
   "cell_type": "markdown",
   "metadata": {},
   "source": [
    "## Setup"
   ]
  },
  {
   "cell_type": "markdown",
   "metadata": {},
   "source": [
    "### Point Distance Attractor"
   ]
  },
  {
   "cell_type": "code",
   "execution_count": 2,
   "metadata": {},
   "outputs": [],
   "source": [
    "PBDS.metric_chart(xn, task::Attractor{<:DistanceFromPoint{R3,R1,S}}, CN::Chart{1,R1}) where S = \n",
    "    default_metric(xn, task, CN)\n",
    "PBDS.potential_chart(xn, task::Attractor{<:DistanceFromPoint{R3,R1,S}}, CN::Chart{1,R1}) where S = xn[1]^2\n",
    "PBDS.dissipative_forces_chart(xn, vn, task::Attractor{<:DistanceFromPoint{R3,R1,S}}, CN::Chart{1,R1}) where S =  -5*vn\n",
    "PBDS.weight_metric_chart(xn, vn, task::Attractor{<:DistanceFromPoint{R3,R1,S}}, CN::Chart{1,R1}) where S = \n",
    "    default_weight_metric(xn, vn, task, CN)"
   ]
  },
  {
   "cell_type": "markdown",
   "metadata": {},
   "source": [
    "### Angular Damping Around Goal"
   ]
  },
  {
   "cell_type": "code",
   "execution_count": 3,
   "metadata": {},
   "outputs": [],
   "source": [
    "PBDS.default_coord_rep(::Damping{<:AngularPositionAroundPoint{R3,S2,S}}) where S = EmbRep()\n",
    "PBDS.codomain_coord_rep(::AngularPositionAroundPoint{R3,S2,S}) where S = EmbRep()\n",
    "PBDS.metric_emb(xne, task::Damping{<:AngularPositionAroundPoint{R3,S2,S}}) where S =\n",
    "    default_metric(xne, task)\n",
    "PBDS.potential_emb(xne, task::Damping{<:AngularPositionAroundPoint{R3,S2,S}}) where S = 0.\n",
    "PBDS.dissipative_forces_emb(xne, vne, task::Damping{<:AngularPositionAroundPoint{R3,S2,S}}) where S = -2*vne\n",
    "PBDS.weight_metric_emb(xne, vne, task::Damping{<:AngularPositionAroundPoint{R3,S2,S}}) where S =\n",
    "    default_weight_metric(xne, vne, task)"
   ]
  },
  {
   "cell_type": "markdown",
   "metadata": {},
   "source": [
    "### Box Avoidance"
   ]
  },
  {
   "cell_type": "code",
   "execution_count": 4,
   "metadata": {},
   "outputs": [],
   "source": [
    "function PBDS.metric_chart(xn, task::CollisionAvoidance{<:DistanceSphereToBox{R3,R1,S}}, CN::Chart{1,R1}) where S\n",
    "    ψx = exp(1.e1 / xn[1]^2)\n",
    "    G = SMatrix{1,1,eltype(xn)}([ψx])\n",
    "end\n",
    "PBDS.potential_chart(xn, task::CollisionAvoidance{<:DistanceSphereToBox{R3,R1,S}}, CN::Chart{1,R1}) where S = 0.\n",
    "PBDS.dissipative_forces_chart(xn, vn, task::CollisionAvoidance{<:DistanceSphereToBox{R3,R1,S}}, CN::Chart{1,R1}) where S = 0*vn\n",
    "function PBDS.weight_metric_chart(xn, vn, task::CollisionAvoidance{<:DistanceSphereToBox{R3,R1,S}}, CN::Chart{1,R1}) where S\n",
    "    offset_distance = 5.\n",
    "    λ = (xn[1] < offset_distance && vn[1] < 0.) ? 1. : 0.\n",
    "    W = SMatrix{1,1,eltype(xn)}(I)*λ\n",
    "end"
   ]
  },
  {
   "cell_type": "code",
   "execution_count": 5,
   "metadata": {},
   "outputs": [
    {
     "data": {
      "text/plain": [
       "3-element Array{Chart,1}:\n",
       " Chart{1,ℝ{1}}()\n",
       " Chart{SterProjSouth,𝕊{2}}()\n",
       " Chart{1,ℝ{1}}()"
      ]
     },
     "execution_count": 5,
     "metadata": {},
     "output_type": "execute_result"
    }
   ],
   "source": [
    "xm_goal = SA[-6., 6., 0.]\n",
    "M = R3\n",
    "CM = Chart{1,M}()\n",
    "tasks, CNs = TaskList(), ChartList()\n",
    "\n",
    "N = R1\n",
    "push!(tasks, Attractor(DistanceFromPoint{M,N}(xm_goal)))\n",
    "push!(CNs, Chart{1,N}())\n",
    "\n",
    "N = S2\n",
    "push!(tasks, Damping(AngularPositionAroundPoint{M,N}(xm_goal)))\n",
    "push!(CNs, Chart{SterProjSouth,N}())\n",
    "\n",
    "N = R1\n",
    "CN = Chart{1,N}()\n",
    "radius = 0.5\n",
    "center = SA[-3., 3., 0.]\n",
    "widths = SA[3., 3., 2.]\n",
    "corner = @. center - widths/2\n",
    "rotation = RotXYZ(0.5, 0.5, 0.5)\n",
    "push!(tasks, CollisionAvoidance(DistanceSphereToBox{M,N}(radius, Rect(Vec(corner), Vec(widths)), rotation)))\n",
    "push!(CNs, CN)"
   ]
  },
  {
   "cell_type": "markdown",
   "metadata": {},
   "source": [
    "## Point Acceleration"
   ]
  },
  {
   "cell_type": "code",
   "execution_count": 6,
   "metadata": {},
   "outputs": [
    {
     "ename": "LoadError",
     "evalue": "LAPACKException(2)",
     "output_type": "error",
     "traceback": [
      "LAPACKException(2)",
      "",
      "Stacktrace:",
      " [1] chklapackerror at /buildworker/worker/package_linux64/build/usr/share/julia/stdlib/v1.5/LinearAlgebra/src/lapack.jl:38 [inlined]",
      " [2] gesdd!(::Char, ::Array{Float64,2}) at /buildworker/worker/package_linux64/build/usr/share/julia/stdlib/v1.5/LinearAlgebra/src/lapack.jl:1650",
      " [3] _svd! at /buildworker/worker/package_linux64/build/usr/share/julia/stdlib/v1.5/LinearAlgebra/src/svd.jl:105 [inlined]",
      " [4] svd!(::Array{Float64,2}; full::Bool, alg::LinearAlgebra.DivideAndConquer) at /buildworker/worker/package_linux64/build/usr/share/julia/stdlib/v1.5/LinearAlgebra/src/svd.jl:98",
      " [5] #svd#85 at /buildworker/worker/package_linux64/build/usr/share/julia/stdlib/v1.5/LinearAlgebra/src/svd.jl:158 [inlined]",
      " [6] pinv(::Array{Float64,2}; atol::Float64, rtol::Float64) at /buildworker/worker/package_linux64/build/usr/share/julia/stdlib/v1.5/LinearAlgebra/src/dense.jl:1356",
      " [7] pinv(::Array{Float64,2}) at /buildworker/worker/package_linux64/build/usr/share/julia/stdlib/v1.5/LinearAlgebra/src/dense.jl:1335",
      " [8] multiple_task_acceleration(::SArray{Tuple{3},Float64,1,3}, ::SArray{Tuple{3},Float64,1,3}, ::Array{PBDS.Task{var\"#s13\"} where var\"#s13\"<:Union{ProductTaskMap, PBDS.TaskMap},1}, ::Chart{1,ℝ{3}}, ::Array{Chart,1}, ::ChartRep; log_task_chart::Bool) at /home/sid/.julia/dev/PBDS/src/pbds_tasks.jl:62",
      " [9] multiple_task_acceleration at /home/sid/.julia/dev/PBDS/src/pbds_tasks.jl:48 [inlined] (repeats 2 times)",
      " [10] top-level scope at In[6]:4",
      " [11] include_string(::Function, ::Module, ::String, ::String) at ./loading.jl:1091"
     ]
    }
   ],
   "source": [
    "# Initial state\n",
    "xm = SA[1., 1., 1.]\n",
    "vm = SA[-1., -1., -1.]\n",
    "σxddot, = multiple_task_acceleration(xm, vm, tasks, CM, CNs)"
   ]
  },
  {
   "cell_type": "markdown",
   "metadata": {},
   "source": [
    "## Single Trajectory Test"
   ]
  },
  {
   "cell_type": "code",
   "execution_count": 7,
   "metadata": {
    "scrolled": true
   },
   "outputs": [
    {
     "ename": "LoadError",
     "evalue": "LAPACKException(2)",
     "output_type": "error",
     "traceback": [
      "LAPACKException(2)",
      "",
      "Stacktrace:",
      " [1] chklapackerror at /buildworker/worker/package_linux64/build/usr/share/julia/stdlib/v1.5/LinearAlgebra/src/lapack.jl:38 [inlined]",
      " [2] gesdd!(::Char, ::Array{Float64,2}) at /buildworker/worker/package_linux64/build/usr/share/julia/stdlib/v1.5/LinearAlgebra/src/lapack.jl:1650",
      " [3] _svd! at /buildworker/worker/package_linux64/build/usr/share/julia/stdlib/v1.5/LinearAlgebra/src/svd.jl:105 [inlined]",
      " [4] svd!(::Array{Float64,2}; full::Bool, alg::LinearAlgebra.DivideAndConquer) at /buildworker/worker/package_linux64/build/usr/share/julia/stdlib/v1.5/LinearAlgebra/src/svd.jl:98",
      " [5] #svd#85 at /buildworker/worker/package_linux64/build/usr/share/julia/stdlib/v1.5/LinearAlgebra/src/svd.jl:158 [inlined]",
      " [6] pinv(::Array{Float64,2}; atol::Float64, rtol::Float64) at /buildworker/worker/package_linux64/build/usr/share/julia/stdlib/v1.5/LinearAlgebra/src/dense.jl:1356",
      " [7] pinv(::Array{Float64,2}) at /buildworker/worker/package_linux64/build/usr/share/julia/stdlib/v1.5/LinearAlgebra/src/dense.jl:1335",
      " [8] multiple_task_acceleration(::SArray{Tuple{3},Float64,1,3}, ::SArray{Tuple{3},Float64,1,3}, ::Array{PBDS.Task{var\"#s13\"} where var\"#s13\"<:Union{ProductTaskMap, PBDS.TaskMap},1}, ::Chart{1,ℝ{3}}, ::Array{Chart,1}, ::ChartRep; log_task_chart::Bool) at /home/sid/.julia/dev/PBDS/src/pbds_tasks.jl:62",
      " [9] PBDS.RMPTrajectory(::SArray{Tuple{3},Float64,1,3}, ::SArray{Tuple{3},Float64,1,3}, ::Int64, ::Float64, ::Array{PBDS.Task{var\"#s13\"} where var\"#s13\"<:Union{ProductTaskMap, PBDS.TaskMap},1}, ::Chart{1,ℝ{3}}, ::Array{Chart,1}, ::ChartRep, ::Array{ChartRep,1}, ::Bool) at /home/sid/.julia/dev/PBDS/src/trajectory.jl:68",
      " [10] propagate_tasks(::SArray{Tuple{3},Float64,1,3}, ::SArray{Tuple{3},Float64,1,3}, ::Array{PBDS.Task{var\"#s13\"} where var\"#s13\"<:Union{ProductTaskMap, PBDS.TaskMap},1}, ::Chart{1,ℝ{3}}, ::Array{Chart,1}, ::Int64, ::Float64, ::ChartRep; task_coord_reps::Array{ChartRep,1}, log_tasks::Bool) at /home/sid/.julia/dev/PBDS/src/trajectory.jl:254",
      " [11] propagate_tasks(::SArray{Tuple{3},Float64,1,3}, ::SArray{Tuple{3},Float64,1,3}, ::Array{PBDS.Task{var\"#s13\"} where var\"#s13\"<:Union{ProductTaskMap, PBDS.TaskMap},1}, ::Chart{1,ℝ{3}}, ::Array{Chart,1}, ::Int64, ::Float64, ::ChartRep) at /home/sid/.julia/dev/PBDS/src/trajectory.jl:252",
      " [12] propagate_tasks(::SArray{Tuple{3},Float64,1,3}, ::SArray{Tuple{3},Float64,1,3}, ::Array{PBDS.Task{var\"#s13\"} where var\"#s13\"<:Union{ProductTaskMap, PBDS.TaskMap},1}, ::Chart{1,ℝ{3}}, ::Array{Chart,1}, ::Int64, ::Float64) at /home/sid/.julia/dev/PBDS/src/trajectory.jl:247",
      " [13] top-level scope at In[7]:4",
      " [14] include_string(::Function, ::Module, ::String, ::String) at ./loading.jl:1091"
     ]
    }
   ],
   "source": [
    "Time = 10\n",
    "dt = 0.01\n",
    "\n",
    "traj = propagate_tasks(xm, vm, tasks, CM, CNs, Time, dt)\n",
    "traj.xm[end]"
   ]
  },
  {
   "cell_type": "markdown",
   "metadata": {},
   "source": [
    "## Multiple Trajectories"
   ]
  },
  {
   "cell_type": "code",
   "execution_count": 8,
   "metadata": {},
   "outputs": [
    {
     "name": "stderr",
     "output_type": "stream",
     "text": [
      "WARNING: using Makie.widths in module Main conflicts with an existing identifier.\n"
     ]
    }
   ],
   "source": [
    "using Makie, Observables, ProgressMeter, VectorizedRoutines"
   ]
  },
  {
   "cell_type": "code",
   "execution_count": 9,
   "metadata": {},
   "outputs": [
    {
     "ename": "LoadError",
     "evalue": "TaskFailedException:\nLAPACKException(2)\nStacktrace:\n [1] chklapackerror at /buildworker/worker/package_linux64/build/usr/share/julia/stdlib/v1.5/LinearAlgebra/src/lapack.jl:38 [inlined]\n [2] gesdd!(::Char, ::Array{Float64,2}) at /buildworker/worker/package_linux64/build/usr/share/julia/stdlib/v1.5/LinearAlgebra/src/lapack.jl:1650\n [3] _svd! at /buildworker/worker/package_linux64/build/usr/share/julia/stdlib/v1.5/LinearAlgebra/src/svd.jl:105 [inlined]\n [4] svd!(::Array{Float64,2}; full::Bool, alg::LinearAlgebra.DivideAndConquer) at /buildworker/worker/package_linux64/build/usr/share/julia/stdlib/v1.5/LinearAlgebra/src/svd.jl:98\n [5] #svd#85 at /buildworker/worker/package_linux64/build/usr/share/julia/stdlib/v1.5/LinearAlgebra/src/svd.jl:158 [inlined]\n [6] pinv(::Array{Float64,2}; atol::Float64, rtol::Float64) at /buildworker/worker/package_linux64/build/usr/share/julia/stdlib/v1.5/LinearAlgebra/src/dense.jl:1356\n [7] pinv(::Array{Float64,2}) at /buildworker/worker/package_linux64/build/usr/share/julia/stdlib/v1.5/LinearAlgebra/src/dense.jl:1335\n [8] multiple_task_acceleration(::SArray{Tuple{3},Float64,1,3}, ::SArray{Tuple{3},Float64,1,3}, ::Array{PBDS.Task{var\"#s13\"} where var\"#s13\"<:Union{ProductTaskMap, PBDS.TaskMap},1}, ::Chart{1,ℝ{3}}, ::Array{Chart,1}, ::ChartRep; log_task_chart::Bool) at /home/sid/.julia/dev/PBDS/src/pbds_tasks.jl:62\n [9] PBDS.RMPTrajectory(::SArray{Tuple{3},Float64,1,3}, ::SArray{Tuple{3},Float64,1,3}, ::Int64, ::Float64, ::Array{PBDS.Task{var\"#s13\"} where var\"#s13\"<:Union{ProductTaskMap, PBDS.TaskMap},1}, ::Chart{1,ℝ{3}}, ::Array{Chart,1}, ::ChartRep, ::Array{ChartRep,1}, ::Bool) at /home/sid/.julia/dev/PBDS/src/trajectory.jl:68\n [10] propagate_tasks(::SArray{Tuple{3},Float64,1,3}, ::SArray{Tuple{3},Float64,1,3}, ::Array{PBDS.Task{var\"#s13\"} where var\"#s13\"<:Union{ProductTaskMap, PBDS.TaskMap},1}, ::Chart{1,ℝ{3}}, ::Array{Chart,1}, ::Int64, ::Float64, ::ChartRep; task_coord_reps::Array{ChartRep,1}, log_tasks::Bool) at /home/sid/.julia/dev/PBDS/src/trajectory.jl:254\n [11] propagate_tasks(::SArray{Tuple{3},Float64,1,3}, ::SArray{Tuple{3},Float64,1,3}, ::Array{PBDS.Task{var\"#s13\"} where var\"#s13\"<:Union{ProductTaskMap, PBDS.TaskMap},1}, ::Chart{1,ℝ{3}}, ::Array{Chart,1}, ::Int64, ::Float64, ::ChartRep) at /home/sid/.julia/dev/PBDS/src/trajectory.jl:252\n [12] propagate_tasks(::SArray{Tuple{3},Float64,1,3}, ::SArray{Tuple{3},Float64,1,3}, ::Array{PBDS.Task{var\"#s13\"} where var\"#s13\"<:Union{ProductTaskMap, PBDS.TaskMap},1}, ::Chart{1,ℝ{3}}, ::Array{Chart,1}, ::Int64, ::Float64) at /home/sid/.julia/dev/PBDS/src/trajectory.jl:247\n [13] macro expansion at ./In[9]:29 [inlined]\n [14] (::var\"#243#threadsfor_fun#1\"{UnitRange{Int64}})(::Bool) at ./threadingconstructs.jl:81\n [15] (::var\"#243#threadsfor_fun#1\"{UnitRange{Int64}})() at ./threadingconstructs.jl:48",
     "output_type": "error",
     "traceback": [
      "TaskFailedException:\nLAPACKException(2)\nStacktrace:\n [1] chklapackerror at /buildworker/worker/package_linux64/build/usr/share/julia/stdlib/v1.5/LinearAlgebra/src/lapack.jl:38 [inlined]\n [2] gesdd!(::Char, ::Array{Float64,2}) at /buildworker/worker/package_linux64/build/usr/share/julia/stdlib/v1.5/LinearAlgebra/src/lapack.jl:1650\n [3] _svd! at /buildworker/worker/package_linux64/build/usr/share/julia/stdlib/v1.5/LinearAlgebra/src/svd.jl:105 [inlined]\n [4] svd!(::Array{Float64,2}; full::Bool, alg::LinearAlgebra.DivideAndConquer) at /buildworker/worker/package_linux64/build/usr/share/julia/stdlib/v1.5/LinearAlgebra/src/svd.jl:98\n [5] #svd#85 at /buildworker/worker/package_linux64/build/usr/share/julia/stdlib/v1.5/LinearAlgebra/src/svd.jl:158 [inlined]\n [6] pinv(::Array{Float64,2}; atol::Float64, rtol::Float64) at /buildworker/worker/package_linux64/build/usr/share/julia/stdlib/v1.5/LinearAlgebra/src/dense.jl:1356\n [7] pinv(::Array{Float64,2}) at /buildworker/worker/package_linux64/build/usr/share/julia/stdlib/v1.5/LinearAlgebra/src/dense.jl:1335\n [8] multiple_task_acceleration(::SArray{Tuple{3},Float64,1,3}, ::SArray{Tuple{3},Float64,1,3}, ::Array{PBDS.Task{var\"#s13\"} where var\"#s13\"<:Union{ProductTaskMap, PBDS.TaskMap},1}, ::Chart{1,ℝ{3}}, ::Array{Chart,1}, ::ChartRep; log_task_chart::Bool) at /home/sid/.julia/dev/PBDS/src/pbds_tasks.jl:62\n [9] PBDS.RMPTrajectory(::SArray{Tuple{3},Float64,1,3}, ::SArray{Tuple{3},Float64,1,3}, ::Int64, ::Float64, ::Array{PBDS.Task{var\"#s13\"} where var\"#s13\"<:Union{ProductTaskMap, PBDS.TaskMap},1}, ::Chart{1,ℝ{3}}, ::Array{Chart,1}, ::ChartRep, ::Array{ChartRep,1}, ::Bool) at /home/sid/.julia/dev/PBDS/src/trajectory.jl:68\n [10] propagate_tasks(::SArray{Tuple{3},Float64,1,3}, ::SArray{Tuple{3},Float64,1,3}, ::Array{PBDS.Task{var\"#s13\"} where var\"#s13\"<:Union{ProductTaskMap, PBDS.TaskMap},1}, ::Chart{1,ℝ{3}}, ::Array{Chart,1}, ::Int64, ::Float64, ::ChartRep; task_coord_reps::Array{ChartRep,1}, log_tasks::Bool) at /home/sid/.julia/dev/PBDS/src/trajectory.jl:254\n [11] propagate_tasks(::SArray{Tuple{3},Float64,1,3}, ::SArray{Tuple{3},Float64,1,3}, ::Array{PBDS.Task{var\"#s13\"} where var\"#s13\"<:Union{ProductTaskMap, PBDS.TaskMap},1}, ::Chart{1,ℝ{3}}, ::Array{Chart,1}, ::Int64, ::Float64, ::ChartRep) at /home/sid/.julia/dev/PBDS/src/trajectory.jl:252\n [12] propagate_tasks(::SArray{Tuple{3},Float64,1,3}, ::SArray{Tuple{3},Float64,1,3}, ::Array{PBDS.Task{var\"#s13\"} where var\"#s13\"<:Union{ProductTaskMap, PBDS.TaskMap},1}, ::Chart{1,ℝ{3}}, ::Array{Chart,1}, ::Int64, ::Float64) at /home/sid/.julia/dev/PBDS/src/trajectory.jl:247\n [13] macro expansion at ./In[9]:29 [inlined]\n [14] (::var\"#243#threadsfor_fun#1\"{UnitRange{Int64}})(::Bool) at ./threadingconstructs.jl:81\n [15] (::var\"#243#threadsfor_fun#1\"{UnitRange{Int64}})() at ./threadingconstructs.jl:48",
      "",
      "Stacktrace:",
      " [1] wait at ./task.jl:267 [inlined]",
      " [2] threading_run(::Function) at ./threadingconstructs.jl:34",
      " [3] top-level scope at ./threadingconstructs.jl:93",
      " [4] include_string(::Function, ::Module, ::String, ::String) at ./loading.jl:1091"
     ]
    }
   ],
   "source": [
    "Time = 15\n",
    "dt = 0.05\n",
    "xlim, Δx = 1., 2.\n",
    "vlim, Δv = 2., 4.\n",
    "\n",
    "xm0 = Array{Any}(undef, 3)\n",
    "vm0 = Array{Any}(undef, 3)\n",
    "\n",
    "xm0[1], xm0[2], xm0[3] = Matlab.meshgrid(-xlim:Δx:xlim, -xlim:Δx:xlim, -xlim:Δx:xlim)\n",
    "vm0[1], vm0[2], vm0[3] = Matlab.meshgrid(-vlim:Δv:vlim, -vlim:Δv:vlim, -vlim:Δv:vlim)\n",
    "\n",
    "for a in (xm0, vm0), i in 1:3\n",
    "    a[i] = reshape(a[i], length(a[i]))\n",
    "end\n",
    "\n",
    "nx = length(xm0[1])\n",
    "nv = length(vm0[1])\n",
    "ix, iv = Matlab.meshgrid(1:nx, 1:nv)\n",
    "ix = reshape(ix, length(ix))\n",
    "iv = reshape(iv, length(iv))\n",
    "\n",
    "ntraj = nx*nv\n",
    "trajs = Array{Any}(undef, ntraj)\n",
    "xm0 = [xm0[1]'; xm0[2]'; xm0[3]']\n",
    "vm0 = [vm0[1]'; vm0[2]'; vm0[3]']\n",
    "p = Progress(ntraj)\n",
    "\n",
    "Threads.@threads for i in 1:ntraj\n",
    "    trajs[i] = propagate_tasks(SA[xm0[:,ix[i]]...], SA[vm0[:,iv[i]]...], tasks, CM, CNs, Time, dt)\n",
    "    next!(p)\n",
    "end"
   ]
  },
  {
   "cell_type": "code",
   "execution_count": 10,
   "metadata": {},
   "outputs": [
    {
     "ename": "LoadError",
     "evalue": "UndefRefError: access to undefined reference",
     "output_type": "error",
     "traceback": [
      "UndefRefError: access to undefined reference",
      "",
      "Stacktrace:",
      " [1] getindex(::Array{Any,1}, ::Int64) at ./array.jl:809",
      " [2] (::var\"#2#3\"{Int64})(::Int64) at ./none:0",
      " [3] iterate at ./generator.jl:47 [inlined]",
      " [4] collect(::Base.Generator{UnitRange{Int64},var\"#2#3\"{Int64}}) at ./array.jl:686",
      " [5] fxx(::Int64) at ./In[10]:1",
      " [6] (::var\"#8#11\")(::Int64) at ./In[10]:9",
      " [7] lift(::Function, ::Observable{Int64}) at /home/sid/.julia/packages/AbstractPlotting/ru2ib/src/interaction/nodes.jl:8",
      " [8] top-level scope at In[10]:9",
      " [9] include_string(::Function, ::Module, ::String, ::String) at ./loading.jl:1091"
     ]
    }
   ],
   "source": [
    "fxx(i) = [trajs[j].xm[i][1] for j = 1:ntraj]\n",
    "fxy(i) = [trajs[j].xm[i][2] for j = 1:ntraj]\n",
    "fxz(i) = [trajs[j].xm[i][3] for j = 1:ntraj]\n",
    "iobs = Observable(1)\n",
    "\n",
    "ax_size, plot_size = 5, 800\n",
    "limits = FRect3D((-ax_size-3, -ax_size+3, -ax_size), (2*ax_size, 2*ax_size, 2*ax_size))\n",
    "scene = Scene(resolution = (plot_size, plot_size))\n",
    "Makie.scatter!(scene, lift(i -> fxx(i), iobs), lift(i -> fxy(i), iobs), lift(i -> fxz(i), iobs), markersize = ax_size/20, color = :blue, limits = limits)\n",
    "Makie.scatter!(scene, xm_goal', markersize = ax_size/20, color = :darkgreen)\n",
    "rect = Rect(Vec(-widths./2), Vec(widths))\n",
    "rect_mesh = mesh!(rect, color = :orange)\n",
    "q = UnitQuaternion(rotation)\n",
    "qrot = Quaternion(q.w, q.x, q.y, q.z)\n",
    "Makie.rotate!(rect_mesh[end], qrot)\n",
    "Makie.translate!(rect_mesh[end], center)\n",
    "for i = 1:ntraj\n",
    "    Makie.lines!(scene, getindex.(trajs[i].xm,1), getindex.(trajs[i].xm,2), getindex.(trajs[i].xm,3), color = :purple)\n",
    "end\n",
    "\n",
    "Makie.xlabel!(scene, \"x\")\n",
    "Makie.ylabel!(scene, \"y\")\n",
    "axis = scene[Axis]\n",
    "axis.showaxis = false\n",
    "display(scene)"
   ]
  },
  {
   "cell_type": "code",
   "execution_count": 11,
   "metadata": {},
   "outputs": [
    {
     "ename": "LoadError",
     "evalue": "UndefRefError: access to undefined reference",
     "output_type": "error",
     "traceback": [
      "UndefRefError: access to undefined reference",
      "",
      "Stacktrace:",
      " [1] getindex(::Array{Any,1}, ::Int64) at ./array.jl:809",
      " [2] top-level scope at In[11]:12",
      " [3] include_string(::Function, ::Module, ::String, ::String) at ./loading.jl:1091"
     ]
    }
   ],
   "source": [
    "function record_scene(scene, filename, iobs, N, framerate=60)\n",
    "    p = Progress(N)\n",
    "    record(scene, filename, 1:N) do i\n",
    "        iobs[] = i\n",
    "        rotate_cam!(scene, 0.01, 0., 0.)\n",
    "        next!(p)\n",
    "    end\n",
    "    display(\"text/html\", html_video(filename))\n",
    "end\n",
    "\n",
    "filename = \"R3ToR1xS2PointDistanceAttractorXDamping_R1BoxAvoidance.mp4\"\n",
    "record_scene(scene, filename, iobs, length(trajs[1].xm))"
   ]
  },
  {
   "cell_type": "code",
   "execution_count": null,
   "metadata": {},
   "outputs": [],
   "source": []
  }
 ],
 "metadata": {
  "@webio": {
   "lastCommId": null,
   "lastKernelId": null
  },
  "kernelspec": {
   "display_name": "Julia 1.5.3",
   "language": "julia",
   "name": "julia-1.5"
  },
  "language_info": {
   "file_extension": ".jl",
   "mimetype": "application/julia",
   "name": "julia",
   "version": "1.5.3"
  }
 },
 "nbformat": 4,
 "nbformat_minor": 4
}
